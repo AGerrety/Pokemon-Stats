{
  "nbformat_minor": 1,
  "metadata": {
    "kernelspec": {
      "display_name": "Python 3",
      "language": "python",
      "name": "python3"
    },
    "language_info": {
      "file_extension": ".py",
      "nbconvert_exporter": "python",
      "name": "python",
      "mimetype": "text/x-python",
      "codemirror_mode": {
        "version": 3,
        "name": "ipython"
      },
      "pygments_lexer": "ipython3",
      "version": "3.6.1"
    }
  },
  "nbformat": 4,
  "cells": [
    {
      "metadata": {
        "collapsed": true,
        "_kg_hide-input": true,
        "_kg_hide-output": true,
        "_cell_guid": "19daaa0d-fe3d-4941-b7d9-f53520266eb0",
        "_uuid": "4ea09c29a2122bc8c2d4202d53325a9adfb6d3c4"
      },
      "outputs": [],
      "source": [
        "import numpy as np\n",
        "import pandas as pd\n",
        "import matplotlib.pyplot as plt\n",
        "import seaborn as sns\n",
        "#import libraries"
      ],
      "execution_count": null,
      "cell_type": "code"
    },
    {
      "metadata": {
        "collapsed": true,
        "_kg_hide-input": true,
        "_kg_hide-output": true,
        "_cell_guid": "ca153ec9-518f-444e-95c6-23f1375ee9f6",
        "_uuid": "29088662ae480249fb7533221ddaf24a9879e383"
      },
      "outputs": [],
      "source": [
        "pokemon = pd.read_csv('../input/Pokemon.csv')\n",
        "#import data"
      ],
      "execution_count": null,
      "cell_type": "code"
    },
    {
      "metadata": {
        "_uuid": "877652bab302e4c96a72e10c48080712b4a071ae",
        "_cell_guid": "c73fbdc5-1ba8-48eb-a8e9-30dba50675ae"
      },
      "source": [
        "# A Look at Pokemon by Generation\n",
        "\n",
        "Pokemon became a sensation in the 1990's and continues to be a popular franchise to this date. Pokemon the video game has evolved (pun intended) over the decades into a complex game that takes a lot of statistics and analyze to create teams that can win the meta at tournaments. The point of this kernal is to look at the Pokemon by generation and see if we can find any insight into the numbers behind the design."
      ],
      "cell_type": "markdown"
    },
    {
      "metadata": {
        "_uuid": "f63cd4598ace790c61e8761f2c3e9d7fcfb14abf",
        "_cell_guid": "42acc8a3-03b4-4cb9-9ec1-3778432d036b"
      },
      "source": [
        "# A Look at Every Generation\n",
        "\n",
        "Looking at all the generations at once we can create a control that we can compare to the other datasets. Here we make a Pearson correlation chart to see the correlations and create a histogram for each variable to see distribution and other useful information."
      ],
      "cell_type": "markdown"
    },
    {
      "metadata": {
        "_kg_hide-input": true,
        "_uuid": "e14b7f8a7c9b1ad7223cf306f8d53ff14dc8cb37",
        "_cell_guid": "1931eab2-8b01-49b0-add4-9cc04d7ad078"
      },
      "outputs": [],
      "source": [
        "colormap = plt.cm.plasma\n",
        "plt.figure(figsize=(16,12))\n",
        "plt.title('Pearson correlation of data', y = 1.05, size = 15)\n",
        "sns.heatmap(pokemon.corr(), linewidths=0.1, vmax=1.0, square=True, cmap=colormap, linecolor='black', annot=True)\n",
        "sns.plt.show()\n",
        "#color map looking at Pearson correlations"
      ],
      "execution_count": null,
      "cell_type": "code"
    },
    {
      "metadata": {
        "_uuid": "f1ba73834ce5dfb32303cbb112113b3bea58f43f",
        "_cell_guid": "f72b79d3-2f31-49a1-a9b6-f01291021ecd"
      },
      "source": [
        "As we can see sp. def and defense as well as sp. attack and sp. def have some of the strongest correlations. "
      ],
      "cell_type": "markdown"
    },
    {
      "metadata": {
        "_kg_hide-input": true,
        "_uuid": "0794050f7207413ef64a5ed4b68a8e27d732b2ac",
        "_cell_guid": "8eef8533-c489-4175-9ca5-10bbd4eb56aa"
      },
      "outputs": [],
      "source": [
        "pokemon.hist()\n",
        "fig=plt.gcf()\n",
        "fig.set_size_inches(20,15)\n",
        "plt.show()\n",
        "#histograms of the different stats to show if they have normal distribution"
      ],
      "execution_count": null,
      "cell_type": "code"
    },
    {
      "metadata": {
        "_uuid": "9ed60ddab869594359680e0a21cefdd3fcf0e90c",
        "_cell_guid": "db5e2b4c-63a7-450a-a44e-81f95927dbc0"
      },
      "source": [
        "# Generation 1"
      ],
      "cell_type": "markdown"
    },
    {
      "metadata": {
        "collapsed": true,
        "_kg_hide-input": true,
        "_uuid": "c03734ed0f224b492f4f6026191d58fc316fd466",
        "_cell_guid": "e3e3b500-55a4-406f-92d8-df8094e2f2d7"
      },
      "outputs": [],
      "source": [
        "df1 = pokemon[pokemon.Generation == 1]\n",
        "#look at just first generation pokemon"
      ],
      "execution_count": null,
      "cell_type": "code"
    },
    {
      "metadata": {
        "_kg_hide-input": true,
        "_uuid": "0d7c74ad8229fdb8819a6cff25f5786b3fc38ef1",
        "_cell_guid": "e44dd231-3c58-4d34-bb16-44b3f86543a4"
      },
      "outputs": [],
      "source": [
        "colormap = plt.cm.plasma\n",
        "plt.figure(figsize=(16,12))\n",
        "plt.title('Pearson correlation of data', y = 1.05, size = 15)\n",
        "sns.heatmap(df1.corr(), linewidths=0.1, vmax=1.0, square=True, cmap=colormap, linecolor='black', annot=True)\n",
        "sns.plt.show()\n",
        "#color map looking at Pearson correlations"
      ],
      "execution_count": null,
      "cell_type": "code"
    },
    {
      "metadata": {
        "_uuid": "da9c2119b54b55cffa2c3dc752cb0fa313a7be2d",
        "_cell_guid": "d272e81b-c4e9-4f59-818a-dc8fd2d10ab7"
      },
      "source": [
        "Here we can see that sp. attack and sp. def have the highest correlation, even higher then our control. This means in gen one sp. attack and sp. def tended to go hand in hand. "
      ],
      "cell_type": "markdown"
    },
    {
      "metadata": {
        "_kg_hide-input": true,
        "_uuid": "614a4ce5cb0224ce9495e917298cc3ad0bdaecde",
        "_cell_guid": "fc0bf2a0-3884-4b56-9a80-2f7c23f5d71a"
      },
      "outputs": [],
      "source": [
        "df1.hist()\n",
        "fig=plt.gcf()\n",
        "fig.set_size_inches(20,15)\n",
        "plt.show()\n",
        "#histograms of the different stats to show if they have normal distribution"
      ],
      "execution_count": null,
      "cell_type": "code"
    },
    {
      "metadata": {
        "_uuid": "e08ef9e4d335489e22a0ff6a86deef2b3c1bd986",
        "_cell_guid": "2595e96e-aac8-4db0-85fc-907a49a65b46"
      },
      "source": [
        "# Generation 2"
      ],
      "cell_type": "markdown"
    },
    {
      "metadata": {
        "collapsed": true,
        "_kg_hide-input": true,
        "_uuid": "bbcc9cf415afb9ab93c5e771c9ec0e877f117867",
        "_cell_guid": "f3a38618-344c-47c6-af9c-4966b4681bc5"
      },
      "outputs": [],
      "source": [
        "df1 = pokemon[pokemon.Generation == 2]\n",
        "#look at gen 2 pokemon"
      ],
      "execution_count": null,
      "cell_type": "code"
    },
    {
      "metadata": {
        "_kg_hide-input": true,
        "_uuid": "70ea21b42bcb6f27a79819b138701b1b9a1d5832",
        "_cell_guid": "a1e2539a-099e-494f-b9e2-b7985e132433"
      },
      "outputs": [],
      "source": [
        "colormap = plt.cm.plasma\n",
        "plt.figure(figsize=(16,12))\n",
        "plt.title('Pearson correlation of data', y = 1.05, size = 15)\n",
        "sns.heatmap(df1.corr(), linewidths=0.1, vmax=1.0, square=True, cmap=colormap, linecolor='black', annot=True)\n",
        "sns.plt.show()\n",
        "#color map looking at Pearson correlations"
      ],
      "execution_count": null,
      "cell_type": "code"
    },
    {
      "metadata": {
        "_uuid": "ec8eec8fc9393846a6e69a71f1187ee8a780453f",
        "_cell_guid": "16e9c275-7354-4d4a-b1ac-802718d58ab6"
      },
      "source": [
        "In gen two it seems that the two def stats (sp. def and defense) correlate best, but we see that sp. def and sp. attack correlation almost completely drops off compared to our control and gen one. \n",
        "\n",
        "The other new trend is between attack and defense which have a strong correlation compared to the rest of the stats."
      ],
      "cell_type": "markdown"
    },
    {
      "metadata": {
        "_kg_hide-input": true,
        "_uuid": "d1b2bb7ae560c0146ce9e4cce683203d86f03e00",
        "_cell_guid": "fb001708-9b5b-495a-aca3-67c64f22f3cf"
      },
      "outputs": [],
      "source": [
        "df1.hist()\n",
        "fig=plt.gcf()\n",
        "fig.set_size_inches(20,15)\n",
        "plt.show()\n",
        "#histograms of the different stats to show if they have normal distribution"
      ],
      "execution_count": null,
      "cell_type": "code"
    },
    {
      "metadata": {
        "_uuid": "6bb7c0820c438f51e6784aa6c4b048efb72b68e9",
        "_cell_guid": "cf145c8f-b2a1-47d4-8798-561a619bfe27"
      },
      "source": [
        "# Generation 3"
      ],
      "cell_type": "markdown"
    },
    {
      "metadata": {
        "collapsed": true,
        "_kg_hide-input": true,
        "_uuid": "f5cdbc19ecb1a6b82af777c188840a933deaa22d",
        "_cell_guid": "c5d13712-5a3c-42fd-905a-8474d3a515fe"
      },
      "outputs": [],
      "source": [
        "df1 = pokemon[pokemon.Generation == 3]\n",
        "#look at gen 3 pokemon"
      ],
      "execution_count": null,
      "cell_type": "code"
    },
    {
      "metadata": {
        "_kg_hide-input": true,
        "_uuid": "4f462afab9800a780356d4c018902305a0588799",
        "_cell_guid": "c5e95e16-ee41-42ae-a170-3bff0c327a2b"
      },
      "outputs": [],
      "source": [
        "colormap = plt.cm.plasma\n",
        "plt.figure(figsize=(16,12))\n",
        "plt.title('Pearson correlation of data', y = 1.05, size = 15)\n",
        "sns.heatmap(df1.corr(), linewidths=0.1, vmax=1.0, square=True, cmap=colormap, linecolor='black', annot=True)\n",
        "sns.plt.show()\n",
        "#color map looking at Pearson correlations"
      ],
      "execution_count": null,
      "cell_type": "code"
    },
    {
      "metadata": {
        "_uuid": "ab5ee8cb82cacdc3dc5befa6e0897c3e6d5a81a7",
        "_cell_guid": "7b4b688e-dc43-4a0c-9c13-b5f332599586"
      },
      "source": [
        "This gen (gen three) has a crazy high correlation between sp. atk and attack.  Speed and sp atk also have high correlation which is a new correlation. This could be a generation that you would leave out for trying to predict type off of stats. The trend with the defenses (sp. def and defense) contiue also."
      ],
      "cell_type": "markdown"
    },
    {
      "metadata": {
        "_kg_hide-input": true,
        "_uuid": "037b2a299c9c4a68a6087f790b9372642a9b012b",
        "_cell_guid": "65711038-548c-4b4d-930d-d7f922a90bfb"
      },
      "outputs": [],
      "source": [
        "df1.hist()\n",
        "fig=plt.gcf()\n",
        "fig.set_size_inches(20,15)\n",
        "plt.show()\n",
        "#histograms of the different stats to show if they have normal distribution"
      ],
      "execution_count": null,
      "cell_type": "code"
    },
    {
      "metadata": {
        "_uuid": "35d2be9b56af6c22c2ab481850650134be131f5f",
        "_cell_guid": "7e8b5082-674f-4aa0-ac60-2ed9338f9263"
      },
      "source": [
        "# Generation 4"
      ],
      "cell_type": "markdown"
    },
    {
      "metadata": {
        "collapsed": true,
        "_kg_hide-input": true,
        "_uuid": "cb5fd65a62481614ee08a2935ba27ff8e6e60ccf",
        "_cell_guid": "014123df-9140-48c5-b118-1fb41f7390cb"
      },
      "outputs": [],
      "source": [
        "df1 = pokemon[pokemon.Generation == 4]\n",
        "#look at gen 4 pokemon"
      ],
      "execution_count": null,
      "cell_type": "code"
    },
    {
      "metadata": {
        "_kg_hide-input": true,
        "_uuid": "1030f9d91e2610c09e2a9977d205b5c5d037a9ec",
        "_cell_guid": "a392e0d7-481a-437b-93ed-29bf5972bf11"
      },
      "outputs": [],
      "source": [
        "colormap = plt.cm.plasma\n",
        "plt.figure(figsize=(16,12))\n",
        "plt.title('Pearson correlation of data', y = 1.05, size = 15)\n",
        "sns.heatmap(df1.corr(), linewidths=0.1, vmax=1.0, square=True, cmap=colormap, linecolor='black', annot=True)\n",
        "sns.plt.show()\n",
        "#color map looking at Pearson correlations"
      ],
      "execution_count": null,
      "cell_type": "code"
    },
    {
      "metadata": {
        "_uuid": "d2eb43b1f18c819c73b382e3142c3fa3f025239a",
        "_cell_guid": "b9ff5f2c-5b92-47e8-b610-01bede3db4e8"
      },
      "source": [
        "Here we have the correlation out of all the gens. At a 71% correlation defense and sp. def in this generation should be the same or close to the same number.  Here we also see a correlation between hp and attack which is a different trend compared to other gens. "
      ],
      "cell_type": "markdown"
    },
    {
      "metadata": {
        "_kg_hide-input": true,
        "_uuid": "9cf4107e424ed35a7dc42fa8ce8b0449a6b78282",
        "_cell_guid": "0b38e09f-f09d-4691-8a51-076c8a0aee84"
      },
      "outputs": [],
      "source": [
        "df1.hist()\n",
        "fig=plt.gcf()\n",
        "fig.set_size_inches(20,15)\n",
        "plt.show()\n",
        "#histograms of the different stats to show if they have normal distribution"
      ],
      "execution_count": null,
      "cell_type": "code"
    },
    {
      "metadata": {
        "_uuid": "6df6e7a2e5c189a3124c3ce1cae9c28bad33657c",
        "_cell_guid": "203b948b-5dfb-4ffb-8a95-a58afc18faf1"
      },
      "source": [
        "# Generation 5"
      ],
      "cell_type": "markdown"
    },
    {
      "metadata": {
        "collapsed": true,
        "_kg_hide-input": true,
        "_uuid": "6bcdfb163c4faf890ef79aa818aab6eb51862a5c",
        "_cell_guid": "df4e9244-e00b-4820-bd3e-7eb30291feda"
      },
      "outputs": [],
      "source": [
        "df1 = pokemon[pokemon.Generation == 5]\n",
        "#look at gen 5 pokemon"
      ],
      "execution_count": null,
      "cell_type": "code"
    },
    {
      "metadata": {
        "_kg_hide-input": true,
        "_uuid": "583c84d26b629194ebe4db994d4c1b997c1448f4",
        "_cell_guid": "41274393-ccbb-458e-8fe5-aa67ebf42fa9"
      },
      "outputs": [],
      "source": [
        "colormap = plt.cm.plasma\n",
        "plt.figure(figsize=(16,12))\n",
        "plt.title('Pearson correlation of data', y = 1.05, size = 15)\n",
        "sns.heatmap(df1.corr(), linewidths=0.1, vmax=1.0, square=True, cmap=colormap, linecolor='black', annot=True)\n",
        "sns.plt.show()\n",
        "#color map looking at Pearson correlations"
      ],
      "execution_count": null,
      "cell_type": "code"
    },
    {
      "metadata": {
        "_uuid": "5500f567c97b61a77c1a4942d85e3f08781f42f7",
        "_cell_guid": "5f5b920b-14f8-4c8f-8c15-fbd974d7d13a"
      },
      "source": [
        "This generation we see a come back of sp. atk and sp. def correlation, we also still have an unsually high correlation of sp. def and defense. The trend form last gen (gen 4) of attack and hp contiues as well. "
      ],
      "cell_type": "markdown"
    },
    {
      "metadata": {
        "_kg_hide-input": true,
        "_uuid": "eb6ac163b47280a830fe0c54c9761872fa8613bf",
        "_cell_guid": "83bda6f3-110b-4728-ac4a-99325bd1669a"
      },
      "outputs": [],
      "source": [
        "df1.hist()\n",
        "fig=plt.gcf()\n",
        "fig.set_size_inches(20,15)\n",
        "plt.show()\n",
        "#histograms of the different stats to show if they have normal distribution"
      ],
      "execution_count": null,
      "cell_type": "code"
    },
    {
      "metadata": {
        "_uuid": "f2b4ba4720437a64425603d6604da2f10c350c45",
        "_cell_guid": "ec06d913-ce78-4247-b601-12dea36b3b96"
      },
      "source": [
        "# Generation 6"
      ],
      "cell_type": "markdown"
    },
    {
      "metadata": {
        "collapsed": true,
        "_kg_hide-input": true,
        "_uuid": "c3b048a19c97b428ac83002f9b72cee211ec173d",
        "_cell_guid": "3036c028-b20d-46e5-860c-3f691e5bbe5e"
      },
      "outputs": [],
      "source": [
        "df1 = pokemon[pokemon.Generation == 6]\n",
        "#look at gen 6 pokemon"
      ],
      "execution_count": null,
      "cell_type": "code"
    },
    {
      "metadata": {
        "_kg_hide-input": true,
        "_uuid": "3746473080313242b492dad15c25dcf70f542dfc",
        "_cell_guid": "f828db5a-10ff-436f-9a95-389ff7126e16"
      },
      "outputs": [],
      "source": [
        "colormap = plt.cm.plasma\n",
        "plt.figure(figsize=(16,12))\n",
        "plt.title('Pearson correlation of data', y = 1.05, size = 15)\n",
        "sns.heatmap(df1.corr(), linewidths=0.1, vmax=1.0, square=True, cmap=colormap, linecolor='black', annot=True)\n",
        "sns.plt.show()\n",
        "#color map looking at Pearson correlations"
      ],
      "execution_count": null,
      "cell_type": "code"
    },
    {
      "metadata": {
        "_uuid": "c68460dffb3509d15916441614a7ad26b5b13f23",
        "_cell_guid": "336a0153-f23f-4bdd-8cda-8baa900f06f0"
      },
      "source": [
        "The trends in gen 6 are speed and sp atk, sp. def, and sp. atk, attack and sp atk, and attack and hp. "
      ],
      "cell_type": "markdown"
    },
    {
      "metadata": {
        "_kg_hide-input": true,
        "_uuid": "ab98119a6f94b4873206255b4e3ce9d87ce67132",
        "_cell_guid": "aa3b7a5c-0f56-49f7-9b8d-f9958f9759c0"
      },
      "outputs": [],
      "source": [
        "df1.hist()\n",
        "fig=plt.gcf()\n",
        "fig.set_size_inches(20,15)\n",
        "plt.show()\n",
        "#histograms of the different stats to show if they have normal distribution"
      ],
      "execution_count": null,
      "cell_type": "code"
    },
    {
      "metadata": {
        "_uuid": "cf929c985a4d78e851edcb6be657449000d57eb3",
        "_cell_guid": "020590d6-31bf-487c-aa1f-00e82e1e6b60"
      },
      "source": [
        "# Conclusion \n",
        "\n",
        "Each gen has its' own unique correlations and trends. This means that if you want to find a strong tank Pokemon (high hp, sp. def, defence) you might look at gen 4 with a 71% correlation between sp. def and defence. The next varible to look at would be legendary which might skew the data. "
      ],
      "cell_type": "markdown"
    },
    {
      "metadata": {
        "_uuid": "49724ec8331db729cb4527afaeb5f5198185eb7f"
      },
      "source": [
        "# Looking at Pokemon without Legendaries"
      ],
      "cell_type": "markdown"
    },
    {
      "metadata": {
        "_kg_hide-input": true,
        "_uuid": "36186292b1c9d504849dc32d52d74f8f54b267fe"
      },
      "outputs": [],
      "source": [
        "df1 = pokemon['Legendary'].map(lambda x: x == 0)\n",
        "df1 = pokemon[df1]\n",
        "#get the data without legendaries"
      ],
      "execution_count": null,
      "cell_type": "code"
    },
    {
      "metadata": {
        "_kg_hide-input": true,
        "_uuid": "1220769ea73e4503434650f1e06f06ee814dff75"
      },
      "outputs": [],
      "source": [
        "colormap = plt.cm.plasma\n",
        "plt.figure(figsize=(16,12))\n",
        "plt.title('Pearson correlation of data without legendaries', y = 1.05, size = 15)\n",
        "sns.heatmap(df1.corr(), linewidths=0.1, vmax=1.0, square=True, cmap=colormap, linecolor='black', annot=True)\n",
        "sns.plt.show()\n",
        "#color map looking at Pearson correlations\n",
        "colormap = plt.cm.plasma\n",
        "plt.figure(figsize=(16,12))\n",
        "plt.title('Pearson correlation of data with legendaries', y = 1.05, size = 15)\n",
        "sns.heatmap(pokemon.corr(), linewidths=0.1, vmax=1.0, square=True, cmap=colormap, linecolor='black', annot=True)\n",
        "sns.plt.show()\n",
        "#color map looking at Pearson correlations"
      ],
      "execution_count": null,
      "cell_type": "code"
    },
    {
      "metadata": {
        "_uuid": "81f87ad13acca6af3c4d5306cbb3c48da7e04c6c"
      },
      "source": [
        "## Histograms of data without legendaries"
      ],
      "cell_type": "markdown"
    },
    {
      "metadata": {
        "_kg_hide-input": true,
        "_uuid": "98dbc763f3854b3c896b94b480facb5c75c2c1a5"
      },
      "outputs": [],
      "source": [
        "df1.hist()\n",
        "fig=plt.gcf()\n",
        "fig.set_size_inches(20,15)\n",
        "plt.show()\n",
        "#histograms of the different stats to show if they have normal distribution"
      ],
      "execution_count": null,
      "cell_type": "code"
    },
    {
      "metadata": {
        "_uuid": "57d0f15b307d6d42cc1670f25dd43985702f7113"
      },
      "source": [
        "## Histograms of data with legendaries"
      ],
      "cell_type": "markdown"
    },
    {
      "metadata": {
        "_kg_hide-input": true,
        "_uuid": "4b2c59c3b8e556586786e5d5748604703092ee7c"
      },
      "outputs": [],
      "source": [
        "pokemon.hist()\n",
        "fig=plt.gcf()\n",
        "fig.set_size_inches(20,15)\n",
        "plt.show()\n",
        "#histograms of the different stats to show if they have normal distribution"
      ],
      "execution_count": null,
      "cell_type": "code"
    },
    {
      "metadata": {
        "collapsed": true,
        "_uuid": "ce140fce70d647cbc2e86ef970dc2169bd945fb0"
      },
      "outputs": [],
      "source": [],
      "execution_count": null,
      "cell_type": "code"
    }
  ]
}